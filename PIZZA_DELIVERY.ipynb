{
  "nbformat": 4,
  "nbformat_minor": 0,
  "metadata": {
    "colab": {
      "provenance": [],
      "authorship_tag": "ABX9TyO9pgOnJMvWSJ0nrfrA5p3x",
      "include_colab_link": true
    },
    "kernelspec": {
      "name": "python3",
      "display_name": "Python 3"
    },
    "language_info": {
      "name": "python"
    }
  },
  "cells": [
    {
      "cell_type": "markdown",
      "metadata": {
        "id": "view-in-github",
        "colab_type": "text"
      },
      "source": [
        "<a href=\"https://colab.research.google.com/github/florise8/PIZZA-DELIVERY/blob/main/PIZZA_DELIVERY.ipynb\" target=\"_parent\"><img src=\"https://colab.research.google.com/assets/colab-badge.svg\" alt=\"Open In Colab\"/></a>"
      ]
    },
    {
      "cell_type": "markdown",
      "source": [
        "Create a Pizza Delivery Platform with the following details\n",
        "'Welcome to Python Pizza Deliveries'\n",
        "\n",
        " ``` Small Pizza: $15 ``` ```\n",
        "\n",
        "``` Medium Pizza: $20 ```\n",
        "\n",
        "``` Large Pizza: $25 ```\n",
        "\n",
        "If they want to add pepperoni :\n",
        "\n",
        "``` Pepperoni for Small Pizza: +$2 ```\n",
        "\n",
        "``` Pepperoni for Medium or Large Pizza: +$3 ```\n",
        "\n",
        "If they want cheese :\n",
        "\n",
        " ``` Extra cheese for any size pizza: + $1 ```\n",
        "\n"
      ],
      "metadata": {
        "id": "rAnfHiKGjKOD"
      }
    },
    {
      "cell_type": "code",
      "source": [
        "print('YOU ARE WELCOME TO FLOWS PYTHON PIZZA DELIVERY SERVICES!')\n",
        "\n",
        "# Input order details\n",
        "size = input('What size of Pizza do you want to order? S, M, or L: ')\n",
        "add_pepperoni = input('Do you want to add Pepperoni? Y or N: ')\n",
        "add_extra_cheese = input('Do you want to add extra Cheese? Y or N: ')\n",
        "\n",
        "# Initialize bill base prices\n",
        "bill = 0\n",
        "\n",
        "# Determine base price and size name\n",
        "if size == 'L':\n",
        "    bill = 25\n",
        "    pizza_size = \"Large\"\n",
        "elif size == 'M':\n",
        "    bill = 20\n",
        "    pizza_size = \"Medium\"\n",
        "elif size == 'S':\n",
        "    bill = 15\n",
        "    pizza_size = \"Small\"\n",
        "else:\n",
        "    print(\"Invalid size entered. Please restart your order.\")\n",
        "\n",
        "print(f\"{pizza_size} pizza: ${bill}\")\n",
        "\n",
        "# Cost for pepperoni\n",
        "if add_pepperoni == 'Y':\n",
        "    if size == 'S':\n",
        "        bill += 2\n",
        "        print(f\"+ Pepperoni: $2\")\n",
        "    else:  # For Medium or Large\n",
        "        bill += 3\n",
        "        print(f\"+ Pepperoni: $3\")\n",
        "\n",
        "# Cost for extra cheese\n",
        "if add_extra_cheese == 'Y':\n",
        "    bill += 1\n",
        "    print(f\"+ Extra Cheese: $1\")\n",
        "\n",
        "# Print bill\n",
        "print(f\"final bill is: ${bill}.\")\n",
        "print('THANK YOU FOR PATRONIZING US!')\n"
      ],
      "metadata": {
        "colab": {
          "base_uri": "https://localhost:8080/"
        },
        "id": "y2lrgK1xLfP3",
        "outputId": "6f0e5a96-62c1-4972-9788-7879254b8bd9"
      },
      "execution_count": 7,
      "outputs": [
        {
          "output_type": "stream",
          "name": "stdout",
          "text": [
            "YOU ARE WELCOME TO FLOWS PYTHON PIZZA DELIVERY SERVICES!\n",
            "What size of Pizza do you want to order? S, M, or L: L\n",
            "Do you want to add Pepperoni? Y or N: Y\n",
            "Do you want to add extra Cheese? Y or N: N\n",
            "Large pizza: $25\n",
            "+ Pepperoni: $3\n",
            "final bill is: $28.\n",
            "THANK YOU FOR PATRONIZING US!\n"
          ]
        }
      ]
    }
  ]
}